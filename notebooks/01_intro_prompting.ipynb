{
 "cells": [
  {
   "cell_type": "code",
   "execution_count": 4,
   "id": "f270fcc2",
   "metadata": {},
   "outputs": [
    {
     "data": {
      "text/html": [
       "<div>\n",
       "<style scoped>\n",
       "    .dataframe tbody tr th:only-of-type {\n",
       "        vertical-align: middle;\n",
       "    }\n",
       "\n",
       "    .dataframe tbody tr th {\n",
       "        vertical-align: top;\n",
       "    }\n",
       "\n",
       "    .dataframe thead th {\n",
       "        text-align: right;\n",
       "    }\n",
       "</style>\n",
       "<table border=\"1\" class=\"dataframe\">\n",
       "  <thead>\n",
       "    <tr style=\"text-align: right;\">\n",
       "      <th></th>\n",
       "      <th>id</th>\n",
       "      <th>texto</th>\n",
       "      <th>label</th>\n",
       "    </tr>\n",
       "  </thead>\n",
       "  <tbody>\n",
       "    <tr>\n",
       "      <th>0</th>\n",
       "      <td>1</td>\n",
       "      <td>Me encantó la película</td>\n",
       "      <td>positivo</td>\n",
       "    </tr>\n",
       "    <tr>\n",
       "      <th>1</th>\n",
       "      <td>2</td>\n",
       "      <td>No me gustó para nada</td>\n",
       "      <td>negativo</td>\n",
       "    </tr>\n",
       "    <tr>\n",
       "      <th>2</th>\n",
       "      <td>3</td>\n",
       "      <td>La comida estaba bien pero no espectacular</td>\n",
       "      <td>neutro</td>\n",
       "    </tr>\n",
       "  </tbody>\n",
       "</table>\n",
       "</div>"
      ],
      "text/plain": [
       "   id                                       texto     label\n",
       "0   1                      Me encantó la película  positivo\n",
       "1   2                       No me gustó para nada  negativo\n",
       "2   3  La comida estaba bien pero no espectacular    neutro"
      ]
     },
     "execution_count": 4,
     "metadata": {},
     "output_type": "execute_result"
    }
   ],
   "source": [
    "#CARGAR LIBRERÍAS NECESARIAS\n",
    "import pandas as pd\n",
    "import os\n",
    "\n",
    "#LEER ARCHIVOM.CS\n",
    "df = pd.read_csv(\"../data/ejemplos_tarea.csv\")\n",
    "df.head()"
   ]
  },
  {
   "cell_type": "code",
   "execution_count": 5,
   "id": "3bea84f8",
   "metadata": {},
   "outputs": [],
   "source": [
    "#Prompt 1: INSTRUCCIÓN DIERCTA SIN EJEMPLOS\n",
    "prompt_1 = \"\"\"Clasifica el sentimiento del siguiente texto como positivo, negativo o neutro:\n",
    "\n",
    "Texto: {}\"\"\"\n",
    "\n",
    "# Prompt 2: CON EJEMPLOS (in-context learning)\n",
    "prompt_2 = \"\"\"Clasifica el sentimiento del siguiente texto:\n",
    "\n",
    "Ejemplos:\n",
    "Texto: Me encantó la película. → Sentimiento: positivo\n",
    "Texto: No me gustó. → Sentimiento: negativo\n",
    "Texto: Estuvo bien. → Sentimiento: neutro\n",
    "\n",
    "Texto: {} → Sentimiento:\"\"\"\n",
    "\n",
    "#Prompt 3: INSTRUCCIONES + EJEMPLOS + ROL DEL MODELO\n",
    "prompt_3 = \"\"\"Eres un modelo de lenguaje experto en análisis de sentimientos. \n",
    "Clasifica cada texto como 'positivo', 'negativo' o 'neutro'.\n",
    "\n",
    "Ejemplos:\n",
    "Texto: Me encanta esto. → positivo\n",
    "Texto: Lo odio. → negativo\n",
    "Texto: Es aceptable. → neutro\n",
    "\n",
    "Texto: {} →\"\"\"\n"
   ]
  },
  {
   "cell_type": "code",
   "execution_count": 7,
   "id": "e892df87",
   "metadata": {},
   "outputs": [
    {
     "name": "stdout",
     "output_type": "stream",
     "text": [
      "Prompt 1:\n",
      " Clasifica el sentimiento del siguiente texto como positivo, negativo o neutro:\n",
      "\n",
      "Texto: Me encantó la película \n",
      "\n",
      "Prompt 2:\n",
      " Clasifica el sentimiento del siguiente texto:\n",
      "\n",
      "Ejemplos:\n",
      "Texto: Me encantó la película. → Sentimiento: positivo\n",
      "Texto: No me gustó. → Sentimiento: negativo\n",
      "Texto: Estuvo bien. → Sentimiento: neutro\n",
      "\n",
      "Texto: Me encantó la película → Sentimiento: \n",
      "\n",
      "Prompt 3:\n",
      " Eres un modelo de lenguaje experto en análisis de sentimientos. \n",
      "Clasifica cada texto como 'positivo', 'negativo' o 'neutro'.\n",
      "\n",
      "Ejemplos:\n",
      "Texto: Me encanta esto. → positivo\n",
      "Texto: Lo odio. → negativo\n",
      "Texto: Es aceptable. → neutro\n",
      "\n",
      "Texto: Me encantó la película → \n",
      "\n"
     ]
    }
   ],
   "source": [
    "#PARA VER COMO LUCE CADA PROMPT USANDO UN EJEMPLO\n",
    "texto_ejemplo = df['texto'][0]\n",
    "\n",
    "print(\"Prompt 1:\\n\", prompt_1.format(texto_ejemplo), \"\\n\")\n",
    "print(\"Prompt 2:\\n\", prompt_2.format(texto_ejemplo), \"\\n\")\n",
    "print(\"Prompt 3:\\n\", prompt_3.format(texto_ejemplo), \"\\n\")"
   ]
  }
 ],
 "metadata": {
  "kernelspec": {
   "display_name": "venv",
   "language": "python",
   "name": "python3"
  },
  "language_info": {
   "codemirror_mode": {
    "name": "ipython",
    "version": 3
   },
   "file_extension": ".py",
   "mimetype": "text/x-python",
   "name": "python",
   "nbconvert_exporter": "python",
   "pygments_lexer": "ipython3",
   "version": "3.12.2"
  }
 },
 "nbformat": 4,
 "nbformat_minor": 5
}
