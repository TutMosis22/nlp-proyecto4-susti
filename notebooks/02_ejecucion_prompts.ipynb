{
 "cells": [
  {
   "cell_type": "code",
   "execution_count": 1,
   "id": "ffcf2f98",
   "metadata": {},
   "outputs": [],
   "source": [
    "import sys\n",
    "import os\n",
    "sys.path.append(os.path.abspath(\"..\"))\n",
    "from src.prompting_utils import aplicar_prompt_a_lista"
   ]
  },
  {
   "cell_type": "code",
   "execution_count": 2,
   "id": "391d6f23",
   "metadata": {},
   "outputs": [],
   "source": [
    "import pandas as pd\n",
    "from src.prompting_utils import aplicar_prompt_a_lista"
   ]
  },
  {
   "cell_type": "code",
   "execution_count": 3,
   "id": "0b4f7f45",
   "metadata": {},
   "outputs": [
    {
     "name": "stdout",
     "output_type": "stream",
     "text": [
      "Primeras filas del dataset:\n"
     ]
    },
    {
     "data": {
      "text/html": [
       "<div>\n",
       "<style scoped>\n",
       "    .dataframe tbody tr th:only-of-type {\n",
       "        vertical-align: middle;\n",
       "    }\n",
       "\n",
       "    .dataframe tbody tr th {\n",
       "        vertical-align: top;\n",
       "    }\n",
       "\n",
       "    .dataframe thead th {\n",
       "        text-align: right;\n",
       "    }\n",
       "</style>\n",
       "<table border=\"1\" class=\"dataframe\">\n",
       "  <thead>\n",
       "    <tr style=\"text-align: right;\">\n",
       "      <th></th>\n",
       "      <th>id</th>\n",
       "      <th>texto</th>\n",
       "      <th>label</th>\n",
       "    </tr>\n",
       "  </thead>\n",
       "  <tbody>\n",
       "    <tr>\n",
       "      <th>0</th>\n",
       "      <td>1</td>\n",
       "      <td>Me encantó la película</td>\n",
       "      <td>positivo</td>\n",
       "    </tr>\n",
       "    <tr>\n",
       "      <th>1</th>\n",
       "      <td>2</td>\n",
       "      <td>No me gustó para nada</td>\n",
       "      <td>negativo</td>\n",
       "    </tr>\n",
       "    <tr>\n",
       "      <th>2</th>\n",
       "      <td>3</td>\n",
       "      <td>La comida estaba bien pero no espectacular</td>\n",
       "      <td>neutro</td>\n",
       "    </tr>\n",
       "  </tbody>\n",
       "</table>\n",
       "</div>"
      ],
      "text/plain": [
       "   id                                       texto     label\n",
       "0   1                      Me encantó la película  positivo\n",
       "1   2                       No me gustó para nada  negativo\n",
       "2   3  La comida estaba bien pero no espectacular    neutro"
      ]
     },
     "execution_count": 3,
     "metadata": {},
     "output_type": "execute_result"
    }
   ],
   "source": [
    "#CARGAMOS LOS DATOS\n",
    "df = pd.read_csv(\"../data/ejemplos_tarea.csv\")\n",
    "\n",
    "print(\"Primeras filas del dataset:\")\n",
    "df.head()"
   ]
  },
  {
   "cell_type": "markdown",
   "id": "e4c76bda",
   "metadata": {},
   "source": [
    "Defino la plantilla de los prompts"
   ]
  },
  {
   "cell_type": "code",
   "execution_count": 5,
   "id": "1fea522f",
   "metadata": {},
   "outputs": [],
   "source": [
    "# Prompt 1: INSTRUCCIÓN DIRECTA SIN EJEMPLOS\n",
    "prompt_1 = \"\"\"Clasifica el sentimiento del siguiente texto como positivo, negativo o neutro:\n",
    "\n",
    "Texto: {}\"\"\"\n",
    "\n",
    "# Prompt 2: CON EJEMPLOS (in-context learning)\n",
    "prompt_2 = \"\"\"Clasifica el sentimiento del siguiente texto:\n",
    "\n",
    "Ejemplos:\n",
    "Texto: Me encantó la película. → Sentimiento: positivo\n",
    "Texto: No me gustó. → Sentimiento: negativo\n",
    "Texto: Estuvo bien. → Sentimiento: neutro\n",
    "\n",
    "Texto: {} → Sentimiento:\"\"\"\n",
    "\n",
    "# Prompt 3: INSTRUCCIONES + EJEMPLOS + ROL DEL MODELO\n",
    "prompt_3 = \"\"\"Eres un modelo de lenguaje experto en análisis de sentimientos. \n",
    "Clasifica cada texto como 'positivo', 'negativo' o 'neutro'.\n",
    "\n",
    "Ejemplos:\n",
    "Texto: Me encanta esto. → positivo\n",
    "Texto: Lo odio. → negativo\n",
    "Texto: Es aceptable. → neutro\n",
    "\n",
    "Texto: {} →\"\"\""
   ]
  },
  {
   "cell_type": "markdown",
   "id": "a90b9f79",
   "metadata": {},
   "source": [
    "SE ejecutan los 3 prompts sobre el dataset"
   ]
  },
  {
   "cell_type": "code",
   "execution_count": 6,
   "id": "2542dc4d",
   "metadata": {},
   "outputs": [
    {
     "name": "stdout",
     "output_type": "stream",
     "text": [
      "Ejecutando Prompt 1...\n",
      "[1/3] Procesando...\n",
      "[2/3] Procesando...\n",
      "[3/3] Procesando...\n",
      "Ejecutando Prompt 2...\n",
      "[1/3] Procesando...\n",
      "[2/3] Procesando...\n",
      "[3/3] Procesando...\n",
      "Ejecutando Prompt 3...\n",
      "[1/3] Procesando...\n",
      "[2/3] Procesando...\n",
      "[3/3] Procesando...\n"
     ]
    }
   ],
   "source": [
    "#EXTRAER SOLO LA COLUMNA DE TEXTO\n",
    "textos = df['texto'].tolist()\n",
    "\n",
    "#APLICAR CADA PROMPT A TODOS LOS TEXTOS\n",
    "print(\"Ejecutando Prompt 1...\")\n",
    "df['respuesta_p1'] = aplicar_prompt_a_lista(textos, prompt_1)\n",
    "\n",
    "print(\"Ejecutando Prompt 2...\")\n",
    "df['respuesta_p2'] = aplicar_prompt_a_lista(textos, prompt_2)\n",
    "\n",
    "print(\"Ejecutando Prompt 3...\")\n",
    "df['respuesta_p3'] = aplicar_prompt_a_lista(textos, prompt_3)"
   ]
  },
  {
   "cell_type": "markdown",
   "id": "fad7d56a",
   "metadata": {},
   "source": [
    "Se crea la carpeta results/"
   ]
  },
  {
   "cell_type": "code",
   "execution_count": 7,
   "id": "3f4d7385",
   "metadata": {},
   "outputs": [
    {
     "name": "stdout",
     "output_type": "stream",
     "text": [
      "Respuestas guardadas en '../results/respuestas_prompts.csv'\n"
     ]
    }
   ],
   "source": [
    "import os\n",
    "os.makedirs(\"../results\", exist_ok=True)\n",
    "\n",
    "#SE GUARDA LOS RESULTADOS COMPLETOS\n",
    "df.to_csv(\"../results/respuestas_prompts.csv\", index=False)\n",
    "print(\"Respuestas guardadas en '../results/respuestas_prompts.csv'\")\n"
   ]
  },
  {
   "cell_type": "markdown",
   "id": "c8659aae",
   "metadata": {},
   "source": [
    "Vista rápida de los resultados"
   ]
  },
  {
   "cell_type": "code",
   "execution_count": 8,
   "id": "2f389771",
   "metadata": {},
   "outputs": [
    {
     "data": {
      "text/html": [
       "<div>\n",
       "<style scoped>\n",
       "    .dataframe tbody tr th:only-of-type {\n",
       "        vertical-align: middle;\n",
       "    }\n",
       "\n",
       "    .dataframe tbody tr th {\n",
       "        vertical-align: top;\n",
       "    }\n",
       "\n",
       "    .dataframe thead th {\n",
       "        text-align: right;\n",
       "    }\n",
       "</style>\n",
       "<table border=\"1\" class=\"dataframe\">\n",
       "  <thead>\n",
       "    <tr style=\"text-align: right;\">\n",
       "      <th></th>\n",
       "      <th>texto</th>\n",
       "      <th>label</th>\n",
       "      <th>respuesta_p1</th>\n",
       "      <th>respuesta_p2</th>\n",
       "      <th>respuesta_p3</th>\n",
       "    </tr>\n",
       "  </thead>\n",
       "  <tbody>\n",
       "    <tr>\n",
       "      <th>0</th>\n",
       "      <td>Me encantó la película</td>\n",
       "      <td>positivo</td>\n",
       "      <td>Sentimiento: positivo</td>\n",
       "      <td>Sentimiento: positivo</td>\n",
       "      <td>positivo</td>\n",
       "    </tr>\n",
       "    <tr>\n",
       "      <th>1</th>\n",
       "      <td>No me gustó para nada</td>\n",
       "      <td>negativo</td>\n",
       "      <td>Sentimiento: Negativo</td>\n",
       "      <td>Sentimiento: negativo</td>\n",
       "      <td>Texto: No me gustó para nada → negativo</td>\n",
       "    </tr>\n",
       "    <tr>\n",
       "      <th>2</th>\n",
       "      <td>La comida estaba bien pero no espectacular</td>\n",
       "      <td>neutro</td>\n",
       "      <td>El sentimiento del texto es neutro. Aunque se ...</td>\n",
       "      <td>Sentimiento: neutro</td>\n",
       "      <td>Texto: La comida estaba bien pero no espectacu...</td>\n",
       "    </tr>\n",
       "  </tbody>\n",
       "</table>\n",
       "</div>"
      ],
      "text/plain": [
       "                                        texto     label  \\\n",
       "0                      Me encantó la película  positivo   \n",
       "1                       No me gustó para nada  negativo   \n",
       "2  La comida estaba bien pero no espectacular    neutro   \n",
       "\n",
       "                                        respuesta_p1           respuesta_p2  \\\n",
       "0                              Sentimiento: positivo  Sentimiento: positivo   \n",
       "1                              Sentimiento: Negativo  Sentimiento: negativo   \n",
       "2  El sentimiento del texto es neutro. Aunque se ...    Sentimiento: neutro   \n",
       "\n",
       "                                        respuesta_p3  \n",
       "0                                           positivo  \n",
       "1            Texto: No me gustó para nada → negativo  \n",
       "2  Texto: La comida estaba bien pero no espectacu...  "
      ]
     },
     "execution_count": 8,
     "metadata": {},
     "output_type": "execute_result"
    }
   ],
   "source": [
    "df[['texto', 'label', 'respuesta_p1', 'respuesta_p2', 'respuesta_p3']].head(10)"
   ]
  }
 ],
 "metadata": {
  "kernelspec": {
   "display_name": "venv",
   "language": "python",
   "name": "python3"
  },
  "language_info": {
   "codemirror_mode": {
    "name": "ipython",
    "version": 3
   },
   "file_extension": ".py",
   "mimetype": "text/x-python",
   "name": "python",
   "nbconvert_exporter": "python",
   "pygments_lexer": "ipython3",
   "version": "3.12.2"
  }
 },
 "nbformat": 4,
 "nbformat_minor": 5
}
