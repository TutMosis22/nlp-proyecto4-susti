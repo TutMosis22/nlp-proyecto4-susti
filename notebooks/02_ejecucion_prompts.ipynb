{
 "cells": [
  {
   "cell_type": "markdown",
   "id": "362059f8",
   "metadata": {},
   "source": [
    "notebook02"
   ]
  }
 ],
 "metadata": {
  "language_info": {
   "name": "python"
  }
 },
 "nbformat": 4,
 "nbformat_minor": 5
}
