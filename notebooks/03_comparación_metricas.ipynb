{
 "cells": [
  {
   "cell_type": "code",
   "execution_count": 1,
   "id": "5eee92cc",
   "metadata": {},
   "outputs": [],
   "source": [
    "import pandas as pd\n",
    "import matplotlib.pyplot as plt\n",
    "import seaborn as sns\n",
    "from rouge_score import rouge_scorer\n",
    "from sklearn.metrics import accuracy_score\n",
    "import os"
   ]
  },
  {
   "cell_type": "code",
   "execution_count": 2,
   "id": "49e3a8d1",
   "metadata": {},
   "outputs": [],
   "source": [
    "#ESTILO GRÁFICO\n",
    "sns.set(style=\"whitegrid\")"
   ]
  },
  {
   "cell_type": "code",
   "execution_count": 4,
   "id": "535a6e12",
   "metadata": {},
   "outputs": [
    {
     "data": {
      "text/html": [
       "<div>\n",
       "<style scoped>\n",
       "    .dataframe tbody tr th:only-of-type {\n",
       "        vertical-align: middle;\n",
       "    }\n",
       "\n",
       "    .dataframe tbody tr th {\n",
       "        vertical-align: top;\n",
       "    }\n",
       "\n",
       "    .dataframe thead th {\n",
       "        text-align: right;\n",
       "    }\n",
       "</style>\n",
       "<table border=\"1\" class=\"dataframe\">\n",
       "  <thead>\n",
       "    <tr style=\"text-align: right;\">\n",
       "      <th></th>\n",
       "      <th>id</th>\n",
       "      <th>texto</th>\n",
       "      <th>label</th>\n",
       "      <th>respuesta_p1</th>\n",
       "      <th>respuesta_p2</th>\n",
       "      <th>respuesta_p3</th>\n",
       "    </tr>\n",
       "  </thead>\n",
       "  <tbody>\n",
       "    <tr>\n",
       "      <th>0</th>\n",
       "      <td>1</td>\n",
       "      <td>Me encantó la película</td>\n",
       "      <td>positivo</td>\n",
       "      <td>Sentimiento: positivo</td>\n",
       "      <td>Sentimiento: positivo</td>\n",
       "      <td>positivo</td>\n",
       "    </tr>\n",
       "    <tr>\n",
       "      <th>1</th>\n",
       "      <td>2</td>\n",
       "      <td>No me gustó para nada</td>\n",
       "      <td>negativo</td>\n",
       "      <td>Sentimiento: Negativo</td>\n",
       "      <td>Sentimiento: negativo</td>\n",
       "      <td>Texto: No me gustó para nada → negativo</td>\n",
       "    </tr>\n",
       "    <tr>\n",
       "      <th>2</th>\n",
       "      <td>3</td>\n",
       "      <td>La comida estaba bien pero no espectacular</td>\n",
       "      <td>neutro</td>\n",
       "      <td>El sentimiento del texto es neutro. Aunque se ...</td>\n",
       "      <td>Sentimiento: neutro</td>\n",
       "      <td>Texto: La comida estaba bien pero no espectacu...</td>\n",
       "    </tr>\n",
       "  </tbody>\n",
       "</table>\n",
       "</div>"
      ],
      "text/plain": [
       "   id                                       texto     label  \\\n",
       "0   1                      Me encantó la película  positivo   \n",
       "1   2                       No me gustó para nada  negativo   \n",
       "2   3  La comida estaba bien pero no espectacular    neutro   \n",
       "\n",
       "                                        respuesta_p1           respuesta_p2  \\\n",
       "0                              Sentimiento: positivo  Sentimiento: positivo   \n",
       "1                              Sentimiento: Negativo  Sentimiento: negativo   \n",
       "2  El sentimiento del texto es neutro. Aunque se ...    Sentimiento: neutro   \n",
       "\n",
       "                                        respuesta_p3  \n",
       "0                                           positivo  \n",
       "1            Texto: No me gustó para nada → negativo  \n",
       "2  Texto: La comida estaba bien pero no espectacu...  "
      ]
     },
     "execution_count": 4,
     "metadata": {},
     "output_type": "execute_result"
    }
   ],
   "source": [
    "df = pd.read_csv(\"C:/Users/calag/Desktop/nlp-proyecto4-susti/results/respuestas_prompts.csv\")\n",
    "\n",
    "# Mostrar las primeras filas para verificar\n",
    "df.head()"
   ]
  },
  {
   "cell_type": "code",
   "execution_count": 5,
   "id": "41978152",
   "metadata": {},
   "outputs": [],
   "source": [
    "# ROUGE-L: COMPARA SUPERPOSICIÓN DE FRASES ENTRE LA PREDICCIÓN Y LA VERDAD\n",
    "def calcular_rouge(y_true, y_pred):\n",
    "    scorer = rouge_scorer.RougeScorer(['rougeL'], use_stemmer=True)\n",
    "    puntajes = [scorer.score(str(ref), str(pred))['rougeL'].fmeasure for ref, pred in zip(y_true, y_pred)]\n",
    "    return sum(puntajes) / len(puntajes)\n",
    "\n",
    "# EXACTITUD (Accuracy): PROPORCIÓN DE RESPUESTAS CORRECTAS\n",
    "def calcular_exactitud(y_true, y_pred):\n",
    "    #NORMALIZAR MAYÚSCULAS/MINÚSCULAS Y ESPACIOS\n",
    "    y_true_clean = [str(x).strip().lower() for x in y_true]\n",
    "    y_pred_clean = [str(x).strip().lower() for x in y_pred]\n",
    "    return accuracy_score(y_true_clean, y_pred_clean)\n",
    "\n",
    "#LONGITUD PROMEDIO DE RESPUESTAS\n",
    "def calcular_longitud_promedio(respuestas):\n",
    "    return sum(len(str(r).split()) for r in respuestas) / len(respuestas)"
   ]
  },
  {
   "cell_type": "code",
   "execution_count": 6,
   "id": "dba34a07",
   "metadata": {},
   "outputs": [
    {
     "name": "stdout",
     "output_type": "stream",
     "text": [
      "Métricas comparativas:\n"
     ]
    },
    {
     "data": {
      "text/html": [
       "<div>\n",
       "<style scoped>\n",
       "    .dataframe tbody tr th:only-of-type {\n",
       "        vertical-align: middle;\n",
       "    }\n",
       "\n",
       "    .dataframe tbody tr th {\n",
       "        vertical-align: top;\n",
       "    }\n",
       "\n",
       "    .dataframe thead th {\n",
       "        text-align: right;\n",
       "    }\n",
       "</style>\n",
       "<table border=\"1\" class=\"dataframe\">\n",
       "  <thead>\n",
       "    <tr style=\"text-align: right;\">\n",
       "      <th></th>\n",
       "      <th>Prompt</th>\n",
       "      <th>Exactitud</th>\n",
       "      <th>ROUGE-L</th>\n",
       "      <th>Longitud promedio</th>\n",
       "    </tr>\n",
       "  </thead>\n",
       "  <tbody>\n",
       "    <tr>\n",
       "      <th>0</th>\n",
       "      <td>Prompt 1</td>\n",
       "      <td>0.000000</td>\n",
       "      <td>0.467433</td>\n",
       "      <td>10.000000</td>\n",
       "    </tr>\n",
       "    <tr>\n",
       "      <th>1</th>\n",
       "      <td>Prompt 2</td>\n",
       "      <td>0.000000</td>\n",
       "      <td>0.666667</td>\n",
       "      <td>2.000000</td>\n",
       "    </tr>\n",
       "    <tr>\n",
       "      <th>2</th>\n",
       "      <td>Prompt 3</td>\n",
       "      <td>0.333333</td>\n",
       "      <td>0.483333</td>\n",
       "      <td>6.333333</td>\n",
       "    </tr>\n",
       "  </tbody>\n",
       "</table>\n",
       "</div>"
      ],
      "text/plain": [
       "     Prompt  Exactitud   ROUGE-L  Longitud promedio\n",
       "0  Prompt 1   0.000000  0.467433          10.000000\n",
       "1  Prompt 2   0.000000  0.666667           2.000000\n",
       "2  Prompt 3   0.333333  0.483333           6.333333"
      ]
     },
     "execution_count": 6,
     "metadata": {},
     "output_type": "execute_result"
    }
   ],
   "source": [
    "metricas = {}\n",
    "\n",
    "for i in range(1, 4):\n",
    "    pred_col = f\"respuesta_p{i}\"\n",
    "    acc = calcular_exactitud(df[\"label\"], df[pred_col])\n",
    "    rouge = calcular_rouge(df[\"label\"], df[pred_col])\n",
    "    long_prom = calcular_longitud_promedio(df[pred_col])\n",
    "\n",
    "    metricas[f\"Prompt {i}\"] = {\n",
    "        \"Exactitud\": acc,\n",
    "        \"ROUGE-L\": rouge,\n",
    "        \"Longitud promedio\": long_prom\n",
    "    }\n",
    "\n",
    "#CONVERTIMOS A DATAFRAME PARA VISUALIZACIÓN\n",
    "df_metricas = pd.DataFrame(metricas).T\n",
    "df_metricas.reset_index(inplace=True)\n",
    "df_metricas.rename(columns={\"index\": \"Prompt\"}, inplace=True)\n",
    "\n",
    "#MOSTRAR MÉTRICAS EN TABLA\n",
    "print(\"Métricas comparativas:\")\n",
    "df_metricas"
   ]
  },
  {
   "cell_type": "code",
   "execution_count": 7,
   "id": "3f458700",
   "metadata": {},
   "outputs": [
    {
     "name": "stderr",
     "output_type": "stream",
     "text": [
      "C:\\Users\\calag\\AppData\\Local\\Temp\\ipykernel_32636\\1381912683.py:4: FutureWarning: \n",
      "\n",
      "Passing `palette` without assigning `hue` is deprecated and will be removed in v0.14.0. Assign the `x` variable to `hue` and set `legend=False` for the same effect.\n",
      "\n",
      "  sns.barplot(data=df_metricas, x=\"Prompt\", y=\"Exactitud\", ax=axes[0], palette=\"viridis\")\n",
      "C:\\Users\\calag\\AppData\\Local\\Temp\\ipykernel_32636\\1381912683.py:7: FutureWarning: \n",
      "\n",
      "Passing `palette` without assigning `hue` is deprecated and will be removed in v0.14.0. Assign the `x` variable to `hue` and set `legend=False` for the same effect.\n",
      "\n",
      "  sns.barplot(data=df_metricas, x=\"Prompt\", y=\"ROUGE-L\", ax=axes[1], palette=\"magma\")\n",
      "C:\\Users\\calag\\AppData\\Local\\Temp\\ipykernel_32636\\1381912683.py:10: FutureWarning: \n",
      "\n",
      "Passing `palette` without assigning `hue` is deprecated and will be removed in v0.14.0. Assign the `x` variable to `hue` and set `legend=False` for the same effect.\n",
      "\n",
      "  sns.barplot(data=df_metricas, x=\"Prompt\", y=\"Longitud promedio\", ax=axes[2], palette=\"plasma\")\n"
     ]
    },
    {
     "data": {
      "image/png": "[encoded data removed]",
      "text/plain": [
       "<Figure size 1800x500 with 3 Axes>"
      ]
     },
     "metadata": {},
     "output_type": "display_data"
    }
   ],
   "source": [
    "#BARPLOT PARA CADA MÉTRICA\n",
    "fig, axes = plt.subplots(1, 3, figsize=(18, 5))\n",
    "\n",
    "sns.barplot(data=df_metricas, x=\"Prompt\", y=\"Exactitud\", ax=axes[0], palette=\"viridis\")\n",
    "axes[0].set_title(\"Exactitud por tipo de prompt\")\n",
    "\n",
    "sns.barplot(data=df_metricas, x=\"Prompt\", y=\"ROUGE-L\", ax=axes[1], palette=\"magma\")\n",
    "axes[1].set_title(\"ROUGE-L por tipo de prompt\")\n",
    "\n",
    "sns.barplot(data=df_metricas, x=\"Prompt\", y=\"Longitud promedio\", ax=axes[2], palette=\"plasma\")\n",
    "axes[2].set_title(\"Longitud promedio de respuesta\")\n",
    "\n",
    "plt.tight_layout()\n",
    "plt.show()"
   ]
  },
  {
   "cell_type": "code",
   "execution_count": 8,
   "id": "bac5209e",
   "metadata": {},
   "outputs": [
    {
     "name": "stdout",
     "output_type": "stream",
     "text": [
      "Tabla guardada en '../results/tabla_comparativa.csv'\n"
     ]
    }
   ],
   "source": [
    "df_metricas.to_csv(\"../results/tabla_comparativa.csv\", index=False)\n",
    "print(\"Tabla guardada en '../results/tabla_comparativa.csv'\")"
   ]
  }
 ],
 "metadata": {
  "kernelspec": {
   "display_name": "venv",
   "language": "python",
   "name": "python3"
  },
  "language_info": {
   "codemirror_mode": {
    "name": "ipython",
    "version": 3
   },
   "file_extension": ".py",
   "mimetype": "text/x-python",
   "name": "python",
   "nbconvert_exporter": "python",
   "pygments_lexer": "ipython3",
   "version": "3.12.2"
  }
 },
 "nbformat": 4,
 "nbformat_minor": 5
}
